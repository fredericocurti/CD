{
 "cells": [
  {
   "cell_type": "markdown",
   "metadata": {
    "collapsed": true
   },
   "source": [
    "___\n",
    "# MINIPROJETO 2"
   ]
  },
  {
   "cell_type": "markdown",
   "metadata": {},
   "source": [
    "## <font color='red'>Frederico Vilela Curti</font>\n",
    "___"
   ]
  },
  {
   "cell_type": "code",
   "execution_count": 1,
   "metadata": {
    "collapsed": false
   },
   "outputs": [],
   "source": [
    "from scipy import stats\n",
    "import matplotlib.pyplot as plt\n",
    "import math\n",
    "import numpy as np\n",
    "import pandas as pd\n",
    "%matplotlib inline"
   ]
  },
  {
   "cell_type": "markdown",
   "metadata": {},
   "source": [
    "___\n",
    "### Item 1:"
   ]
  },
  {
   "cell_type": "markdown",
   "metadata": {},
   "source": [
    "A distribuição teórica escolhida será a **Gamma**, seguido os mesmos parâmetros obtidos pela função fit no Miniprojeto 1, logo:"
   ]
  },
  {
   "cell_type": "code",
   "execution_count": 2,
   "metadata": {
    "collapsed": false
   },
   "outputs": [],
   "source": [
    "# a-b )\n",
    "# Valores retirados de .fit() 10.156659020647645, -10.099253046808737, 7.7334492154212189)\n",
    "G = stats.gamma.rvs(10.156659020647645,loc=-10.099253046808737,scale=7.7334492154212189,size=1000000,random_state=None)"
   ]
  },
  {
   "cell_type": "code",
   "execution_count": 3,
   "metadata": {
    "collapsed": false,
    "scrolled": true
   },
   "outputs": [
    {
     "name": "stdout",
     "output_type": "stream",
     "text": [
      "A Média é 68.4666346561\n",
      "A Variança é 608.418294739\n"
     ]
    }
   ],
   "source": [
    "# c )\n",
    "print(\"A Média é\",G.mean())\n",
    "print(\"A Variança é\",np.var(G))"
   ]
  },
  {
   "cell_type": "markdown",
   "metadata": {},
   "source": [
    "_____\n",
    "### Item 2:\n",
    "Construir a distribuição da média amostral:"
   ]
  },
  {
   "cell_type": "code",
   "execution_count": 4,
   "metadata": {
    "collapsed": false,
    "scrolled": true
   },
   "outputs": [
    {
     "name": "stdout",
     "output_type": "stream",
     "text": [
      "Escolha aleatória [ 96.16686033  58.51007183]\n",
      "A média da escolha aleatória de 2 termos foi 77.3384660773\n"
     ]
    },
    {
     "data": {
      "image/png": "[encoded data removed]",
      "text/plain": [
       "<matplotlib.figure.Figure at 0x1196bc668>"
      ]
     },
     "metadata": {},
     "output_type": "display_data"
    }
   ],
   "source": [
    "# a )\n",
    "n = [2,4,20,50]\n",
    "\n",
    "# b )\n",
    "pick = np.random.choice(G,n[0])\n",
    "print(\"Escolha aleatória\",pick)\n",
    "\n",
    "# c )\n",
    "\n",
    "print(\"A média da escolha aleatória de\",n[0],\"termos foi\",pick.mean())\n",
    "\n",
    "# d )\n",
    "means = []\n",
    "for i in range(10000):\n",
    "    pick = np.random.choice(G,n[0])\n",
    "    means.append(pick.mean())\n",
    "\n",
    "h = pd.DataFrame(data=means)\n",
    "h.columns = [\"\"]\n",
    "\n",
    "# e )\n",
    "xg = np.linspace(17,161,723)\n",
    "#x = [1, 10, 20, 20, 20, 20, 20, 20, 25, 25, 28, 30, 30, 30, 30, 30, 30, 30, 30, 30, 30, 30, 30, 30, 31, 35, 35, 35, 35, 35, 35, 35, 35, 35, 35, 35, 35, 35, 35, 35, 36, 37, 38, 38, 38, 38, 38, 38, 39, 39, 40, 40, 40, 40, 40, 40, 40, 40, 40, 40, 40, 40, 40, 40, 40, 40, 40, 40, 40, 40, 40, 40, 40, 40, 40, 40, 40, 40, 40, 40, 40, 40, 40, 40, 40, 40, 40, 40, 41, 41, 41, 42, 43, 43, 43, 44, 44, 44, 44, 44, 44, 44, 45, 45, 45, 45, 45, 45, 45, 45, 45, 45, 45, 45, 45, 45, 45, 45, 45, 45, 45, 45, 45, 45, 45, 45, 45, 45, 45, 45, 45, 45, 45, 45, 45, 45, 45, 45, 45, 45, 46, 46, 48, 48, 48, 49, 49, 50, 50, 50, 50, 50, 50, 50, 50, 50, 50, 50, 50, 50, 50, 50, 50, 50, 50, 50, 50, 50, 50, 50, 50, 50, 50, 50, 50, 50, 50, 50, 50, 50, 50, 50, 50, 50, 50, 50, 50, 50, 50, 50, 50, 50, 50, 50, 50, 50, 50, 50, 50, 51, 52, 52, 53, 53, 54, 54, 54, 55, 55, 55, 55, 55, 55, 55, 55, 55, 55, 55, 55, 55, 55, 55, 55, 55, 55, 55, 55, 55, 55, 55, 55, 55, 55, 55, 55, 55, 55, 55, 55, 55, 55, 55, 55, 56, 57, 57, 58, 58, 58, 58, 58, 58, 59, 59, 59, 59, 59, 60, 60, 60, 60, 60, 60, 60, 60, 60, 60, 60, 60, 60, 60, 60, 60, 60, 60, 60, 60, 60, 60, 60, 60, 60, 60, 60, 60, 60, 60, 60, 60, 60, 60, 60, 60, 60, 60, 60, 60, 60, 60, 60, 60, 60, 60, 60, 60, 60, 60, 60, 60, 60, 60, 60, 60, 60, 60, 60, 60, 60, 60, 61, 61, 61, 61, 62, 62, 62, 62, 62, 62, 62, 63, 63, 63, 64, 64, 64, 64, 64, 65, 65, 65, 65, 65, 65, 65, 65, 65, 65, 65, 65, 65, 65, 65, 65, 65, 65, 65, 65, 65, 65, 65, 65, 65, 65, 65, 65, 65, 65, 65, 65, 65, 65, 65, 65, 65, 65, 65, 65, 65, 66, 66, 66, 67, 67, 67, 67, 67, 68, 68, 68, 68, 68, 69, 69, 70, 70, 70, 70, 70, 70, 70, 70, 70, 70, 70, 70, 70, 70, 70, 70, 70, 70, 70, 70, 70, 70, 70, 70, 70, 70, 70, 70, 70, 70, 70, 70, 70, 70, 70, 70, 70, 70, 70, 70, 70, 70, 70, 70, 70, 70, 70, 70, 70, 70, 71, 71, 71, 71, 72, 72, 72, 72, 72, 73, 73, 73, 73, 74, 74, 74, 74, 75, 75, 75, 75, 75, 75, 75, 75, 75, 75, 75, 75, 75, 75, 75, 75, 75, 75, 75, 75, 75, 75, 75, 75, 75, 75, 75, 75, 75, 75, 75, 75, 75, 75, 75, 75, 75, 75, 75, 76, 76, 76, 76, 76, 77, 77, 77, 78, 78, 78, 78, 78, 78, 78, 79, 79, 79, 79, 80, 80, 80, 80, 80, 80, 80, 80, 80, 80, 80, 80, 80, 80, 80, 80, 80, 80, 80, 80, 80, 80, 80, 80, 80, 80, 80, 80, 80, 80, 80, 80, 80, 80, 81, 82, 82, 83, 83, 84, 84, 85, 85, 85, 85, 85, 85, 85, 85, 85, 85, 85, 85, 85, 85, 85, 85, 85, 85, 86, 86, 86, 86, 88, 89, 89, 90, 90, 90, 90, 90, 90, 90, 90, 90, 90, 90, 90, 90, 90, 90, 90, 90, 90, 90, 90, 90, 90, 90, 90, 90, 91, 91, 91, 91, 91, 91, 92, 95, 95, 95, 95, 95, 95, 95, 95, 95, 95, 95, 95, 95, 95, 95, 95, 95, 95, 95, 97, 99, 100, 100, 100, 100, 100, 100, 100, 100, 100, 100, 100, 100, 100, 100, 100, 100, 100, 100, 100, 100, 100, 100, 100, 100, 100, 100, 100, 100, 101, 103, 103, 104, 105, 105, 105, 105, 105, 105, 105, 106, 106, 106, 108, 108, 108, 109, 110, 110, 110, 110, 110, 110, 110, 110, 110, 111, 114, 115, 115, 115, 116, 120, 120, 120, 123, 123, 125, 125, 126, 126, 130, 130, 130, 135, 140, 144, 150, 150, 150, 160, 165, 170, 190, 250, 255] \n",
    "gamma = stats.gamma.pdf(xg,10.156659020647645,-10.099253046808737,7.7334492154212189)\n",
    "h.plot.hist(grid=True,normed=True,bins=30)\n",
    "plt.plot(xg,gamma,lw=\"4\",label=\"Gamma\",c=\"lightcoral\")\n",
    "plt.legend(loc=\"best\")\n",
    "plt.show()"
   ]
  },
  {
   "cell_type": "code",
   "execution_count": 5,
   "metadata": {
    "collapsed": false
   },
   "outputs": [
    {
     "data": {
      "text/plain": [
       "    143.504788\n",
       "dtype: float64"
      ]
     },
     "execution_count": 5,
     "metadata": {},
     "output_type": "execute_result"
    }
   ],
   "source": [
    "h.max()"
   ]
  },
  {
   "cell_type": "code",
   "execution_count": 6,
   "metadata": {
    "collapsed": false
   },
   "outputs": [
    {
     "name": "stdout",
     "output_type": "stream",
     "text": [
      "A Média das 10000 médias é 68.4704718156\n",
      "A Variança das 10000 médias é 304.062216533\n"
     ]
    }
   ],
   "source": [
    "h.columns = [\"\"]\n",
    "print(\"A Média das 10000 médias é\",h.values.mean())\n",
    "print(\"A Variança das 10000 médias é\",h.values.var())"
   ]
  },
  {
   "cell_type": "markdown",
   "metadata": {},
   "source": [
    "f) A Distribuição obtida ainda **assemelha-se com a distribuição gamma original**, pois o número de amostras (n) foi muito baixo (2)"
   ]
  },
  {
   "cell_type": "markdown",
   "metadata": {},
   "source": [
    "___\n",
    "### Item 3:\n",
    "Construir a distribuição da média amostral:"
   ]
  },
  {
   "cell_type": "code",
   "execution_count": 85,
   "metadata": {
    "collapsed": false
   },
   "outputs": [
    {
     "data": {
      "text/plain": [
       "<matplotlib.axes._subplots.AxesSubplot at 0x11f746240>"
      ]
     },
     "execution_count": 85,
     "metadata": {},
     "output_type": "execute_result"
    },
    {
     "data": {
      "image/png": "[encoded data removed]",
      "text/plain": [
       "<matplotlib.figure.Figure at 0x11f765208>"
      ]
     },
     "metadata": {},
     "output_type": "display_data"
    }
   ],
   "source": [
    "# n = 4\n",
    "means = []\n",
    "for i in range(10000):\n",
    "    pick = np.random.choice(G,n[1])\n",
    "    means.append(pick.mean())\n",
    "\n",
    "h2 = pd.DataFrame(data=means)\n",
    "h2.plot.hist(grid=True,bins=30,color=\"lightskyblue\")"
   ]
  },
  {
   "cell_type": "code",
   "execution_count": 83,
   "metadata": {
    "collapsed": false
   },
   "outputs": [
    {
     "data": {
      "text/plain": [
       "<matplotlib.axes._subplots.AxesSubplot at 0x11f40ff28>"
      ]
     },
     "execution_count": 83,
     "metadata": {},
     "output_type": "execute_result"
    },
    {
     "data": {
      "image/png": "[encoded data removed]",
      "text/plain": [
       "<matplotlib.figure.Figure at 0x11f5697b8>"
      ]
     },
     "metadata": {},
     "output_type": "display_data"
    }
   ],
   "source": [
    "# n = 20\n",
    "means = []\n",
    "for i in range(10000):\n",
    "    pick = np.random.choice(G,n[2])\n",
    "    means.append(pick.mean())\n",
    "\n",
    "h2 = pd.DataFrame(data=means)\n",
    "h2.plot.hist(grid=True,bins=30,color=\"lightskyblue\")"
   ]
  },
  {
   "cell_type": "code",
   "execution_count": null,
   "metadata": {
    "collapsed": false
   },
   "outputs": [],
   "source": []
  },
  {
   "cell_type": "code",
   "execution_count": 84,
   "metadata": {
    "collapsed": false
   },
   "outputs": [
    {
     "data": {
      "text/plain": [
       "<matplotlib.legend.Legend at 0x11f553940>"
      ]
     },
     "execution_count": 84,
     "metadata": {},
     "output_type": "execute_result"
    },
    {
     "data": {
      "image/png": "[encoded data removed]",
      "text/plain": [
       "<matplotlib.figure.Figure at 0x11f75e908>"
      ]
     },
     "metadata": {},
     "output_type": "display_data"
    }
   ],
   "source": [
    "# n = 50\n",
    "means = []\n",
    "primeiro = []\n",
    "nono = []\n",
    "for i in range(10000):\n",
    "    pick = np.random.choice(G,n[3])\n",
    "    primeiro.append(pick[0])\n",
    "    nono.append(pick[8])\n",
    "    means.append(pick.mean())\n",
    "\n",
    "fn = stats.norm.fit(means)\n",
    "xx = sorted(means)\n",
    "norm = stats.norm.pdf(xx,fn[0],fn[1])\n",
    "h2 = pd.DataFrame(data=means)\n",
    "h2.plot.hist(grid=True,normed=True,bins=30,color=\"lightskyblue\")\n",
    "plt.plot(xx,norm,lw=\"4\",label=\"Normal\",c=\"springgreen\")\n",
    "plt.legend(loc=\"best\")\n"
   ]
  },
  {
   "cell_type": "code",
   "execution_count": 10,
   "metadata": {
    "collapsed": false
   },
   "outputs": [],
   "source": [
    "Gdf = pd.DataFrame(data=G)"
   ]
  },
  {
   "cell_type": "markdown",
   "metadata": {
    "collapsed": false
   },
   "source": [
    "___\n",
    "### Item 4:\n",
    "**Conclusão geral:**\n",
    "\n",
    "Tendo uma curva de distribuição, no nosso caso, a curva gamma, com os parâmetros obtidos no Miniprojeto 1, é possível criar uma **base de dados aleatória que apresente essa distribuição** através do comando stats.(distribuição).rvs\n",
    "\n",
    "Essa base de dados, chamada aqui de  G, contém o conjunto de todos os valores possíveis para a variável aleatória X e a frequência com que eles ocorrem. \n",
    "\n",
    "Entretanto, num cenário real, é difícil determinar as estatísticas provenientes de um conjunto grande como G na íntegra. Por isso, é conveniente o uso do teorema do limite central, que nos permite encontrar uma distribuição normal com a mesma média da distribuição original e com desvio padrão dado pela seguinte fórmula:\n",
    "![](std.png)\n",
    "\n",
    "O método do teorema consiste em separar aleatóriamente conjuntos com n elementos da distribuição original, e então tirar a média destes, criando a distribuição normal resultante. Quanto maior o número de n elementos da amostra, mais precisa é a normal resultante. Para facilitar essa visualização, no item 3 fica claro com os histogramas que quanto maior n , mais próxima da normal e mais distante de gamma a distribuição se parece.\n",
    "\n",
    "Dado tudo isso, era esperado que conforme aumentamos o número n de amostras que retiramos aleatóriamente do conjunto inicial G, a média e o desvio padrão da distribuição normal resultante tendem aos seus valores originais da distribuição G. Com n = 50, obtemos os seguintes valores para σ (desvio padrão) e para a média."
   ]
  },
  {
   "cell_type": "code",
   "execution_count": 11,
   "metadata": {
    "collapsed": false
   },
   "outputs": [
    {
     "name": "stdout",
     "output_type": "stream",
     "text": [
      "σ =  24.7553068555\n",
      "σx = 24.6661365994\n",
      "Média de G = 68.4666346561\n",
      "Média de X = 68.5008910807\n"
     ]
    }
   ],
   "source": [
    "dpx = h2.values.std()\n",
    "dporiginal = dpx*math.sqrt(50)\n",
    "print(\"σ = \",dporiginal)\n",
    "print(\"σx =\",Gdf.values.std())\n",
    "\n",
    "print(\"Média de G =\",np.mean(G))\n",
    "print(\"Média de X =\",h2.values.mean())"
   ]
  },
  {
   "cell_type": "markdown",
   "metadata": {
    "collapsed": true
   },
   "source": [
    "Como podemos observar, os valores de σx e da média de X são muito similares aos mesmos da distribuição de G, ao ponto de que pode-se afirmar que a distribuição da média amostral representa muito bem o conjunto G todo."
   ]
  },
  {
   "cell_type": "markdown",
   "metadata": {
    "collapsed": true
   },
   "source": [
    "___\n",
    "**Para a compreensão do TLC**"
   ]
  },
  {
   "cell_type": "code",
   "execution_count": 75,
   "metadata": {
    "collapsed": false
   },
   "outputs": [
    {
     "data": {
      "text/plain": [
       "<matplotlib.text.Text at 0x11f4ce128>"
      ]
     },
     "execution_count": 75,
     "metadata": {},
     "output_type": "execute_result"
    },
    {
     "data": {
      "image/png": "[encoded data removed]",
      "text/plain": [
       "<matplotlib.figure.Figure at 0x11e822400>"
      ]
     },
     "metadata": {},
     "output_type": "display_data"
    }
   ],
   "source": [
    "plt.hist(primeiro,bins=20,normed=True,color=\"springgreen\")\n",
    "plt.title(\"Primeiros valores\")"
   ]
  },
  {
   "cell_type": "code",
   "execution_count": 74,
   "metadata": {
    "collapsed": false
   },
   "outputs": [
    {
     "data": {
      "text/plain": [
       "<matplotlib.text.Text at 0x11f34e630>"
      ]
     },
     "execution_count": 74,
     "metadata": {},
     "output_type": "execute_result"
    },
    {
     "data": {
      "image/png": "[encoded data removed]",
      "text/plain": [
       "<matplotlib.figure.Figure at 0x11f1fe358>"
      ]
     },
     "metadata": {},
     "output_type": "display_data"
    }
   ],
   "source": [
    "plt.hist(nono,bins=20,color=\"purple\",normed=True)\n",
    "plt.plot(xg,gamma,lw=\"4\",label=\"Gamma\",c=\"lightcoral\")\n",
    "plt.title(\"Nonos valores\")"
   ]
  },
  {
   "cell_type": "markdown",
   "metadata": {},
   "source": [
    "As distribuições de amostras únicas determinadas de X são iguais à distribuição gamma original (G), como demonstrado no histograma acima, porém de valores diferentes. Logo, elas são independentes e identicamente distribuídas."
   ]
  },
  {
   "cell_type": "code",
   "execution_count": 82,
   "metadata": {
    "collapsed": false
   },
   "outputs": [
    {
     "name": "stdout",
     "output_type": "stream",
     "text": [
      "a correlação entre os primeiros e os nonos valores é = -0.00249148198823\n"
     ]
    }
   ],
   "source": [
    "print(\"a correlação entre os primeiros e os nonos valores é =\",np.corrcoef(primeiro,nono)[1][0])"
   ]
  },
  {
   "cell_type": "markdown",
   "metadata": {},
   "source": [
    "Ou seja, um valor muito próximo de 0, comprovando essa independência."
   ]
  },
  {
   "cell_type": "code",
   "execution_count": null,
   "metadata": {
    "collapsed": true
   },
   "outputs": [],
   "source": []
  }
 ],
 "metadata": {
  "kernelspec": {
   "display_name": "Python 3",
   "language": "python",
   "name": "python3"
  },
  "language_info": {
   "codemirror_mode": {
    "name": "ipython",
    "version": 3
   },
   "file_extension": ".py",
   "mimetype": "text/x-python",
   "name": "python",
   "nbconvert_exporter": "python",
   "pygments_lexer": "ipython3",
   "version": "3.5.1"
  }
 },
 "nbformat": 4,
 "nbformat_minor": 0
}
