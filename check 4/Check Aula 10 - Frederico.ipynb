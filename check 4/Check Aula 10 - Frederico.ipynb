{
 "cells": [
  {
   "cell_type": "markdown",
   "metadata": {},
   "source": [
    "___\n",
    "# Atividade: Modelos probabilísticos discretos e Dados\n",
    "___\n",
    "\n",
    "## Aula 10\n",
    "\n",
    "**Referência de Leitura:**\n",
    "1. Magalhães e Lima (7ª. Edição): Seções 3.2 e 3.3\n",
    "\n",
    "**Hoje:**\n",
    "1.\tDescrever modelos discretos quanto aos resultados teóricos.\n",
    "2.\tExplicar a utilização de modelos probabilísticos no contexto da literatura estatística.\n",
    "3.\tContrastar resultados teóricos e empíricos.\n",
    "4.\tFechamento do conteúdo.\n",
    "\n",
    "**Próxima aula:**\n",
    "1. Leitura prévia necessária: Magalhães e Lima (7ª. Edição): Seção 5.1 (pág. 137) e Seção 5.2 (pág. 146).\n",
    "___"
   ]
  },
  {
   "cell_type": "code",
   "execution_count": 2,
   "metadata": {
    "collapsed": true
   },
   "outputs": [],
   "source": [
    "%matplotlib inline\n",
    "import pandas as pd\n",
    "import matplotlib.pyplot as plt\n",
    "from math import factorial\n",
    "from scipy import stats #importa apenas as funções de estatísticas da biblioteca SciPy.\n",
    "import itertools #importante para gerar todos os resultados possíveis!!\n"
   ]
  },
  {
   "cell_type": "markdown",
   "metadata": {},
   "source": [
    "___\n",
    "## <font color='blue'>Exercício 1</font>\n",
    "\n",
    "Um resistor de 100K Ohms comprado na Santa Efigênia tem probabilidade de falha de 5%, segundo um fabricante ruim.\n",
    "\n",
    "Ainda, assuma os resistores falham de forma independente entre si.\n",
    "\n",
    "Um aluno de engenharia compra um pacote contendo $n$ resistores.\n",
    "\n",
    "1. Assuma $n=3$ e faça os itens a seguir.\n",
    "  1. Monte o espaço amostral que combine todos os resultados possíveis de Falha e não Falha desses $n$ resistores. Ainda, calcule a probabilidade de cada resultado do espaço amostral acontecer.\n",
    "  2. Se $Y$ representa o número de resistores que falham em um pacotinho com $n$ resistores, então construa a distribuição de probabilidades de $Y$.\n",
    "  3. Calcule a média e o desvio padrão de $Y$. Interprete os resultados.\n",
    "    \n",
    "2. Assuma $n=7$ e repita os itens A) a C) anteriores. No caso de $n=7$ ou maiores quantidades de resistores em um pacotinho, qual a viabilidade de construir a distribuição de probabilidades do número de resistores com defeitos quando $n$ não é pequeno?\n",
    "    \n",
    "3. Encontre a distribuição de probabilidades de cada possível valor de $Y$ utilizando a distribuição Binomial para $n=3$ e $n=7$. Calcule também $E(X)$ e $Var(X)$. Compare com as distribuições de probabilidades obtidas nos itens anteriores e discuta porque esses valores são iguais ou diferentes!\n",
    "    \n",
    "> **DISTRIBUIÇÃO BINOMIAL - TEORIA:**\n",
    "\n",
    "> É responsável por modelar uma variável $Y$ definida pelo Número de sucessos em $n$ tentativas, cuja probabilidade de sucesso é dada por $p$. Assim, dizemos que $Y$~$Bin(n,p)$ e lê-se: $Y$ segue uma distribuição binomial com $n$ tentativas e $p$ como probabilidade de sucesso. \n",
    "\n",
    "> A função de probabilidade nesse caso é dada por:\n",
    "$P(Y=y)=\\left(\n",
    "\\begin{array}{c}\n",
    "    n \\\\\n",
    "    y\n",
    "\\end{array}\\right) p^y (1-p)^{(n-y)}$\n",
    "\n",
    "> Para um experimento ter as probabilidade dos números de sucessos modeladas por uma distribuição Binomial, o mesmo precisa ter as seguintes propriedades:\n",
    "* é uma contagem de $n$ repetições (ou tentativas ou ensaios) idênticas;\n",
    "* cada repetição tem apenas 2 resultados possíveis: um é denominado sucesso e o outro, fracasso;\n",
    "* a probabilidade de sucesso para cada ensaio é denominada $p$ e será constante em cada repetição. Então, a probabilidade de fracasso $(1-p)$ também não varia de tentativa para tentativa;\n",
    "* As tentativas são independentes.\n",
    "\n",
    "\n",
    "> **DISTRIBUIÇÃO BINOMIAL - PYTHON:** <sup> [https://en.wikipedia.org/wiki/SciPy]\n",
    "\n",
    "> Algumas funções úteis para desenvolver seu código: <sup> [http://docs.scipy.org/doc/scipy-0.16.1/reference/generated/scipy.stats.binom.html]\n",
    "* $P(Y=y)$: `stats.binom.pmf(y, n, p)`\n",
    "* $P(Y\\leq y)$: `stats.binom.cdf(y, n, p)`\n",
    "* $E(X)$ e $Var(X)$: `stats.binom.stats(n, p, moments='mv')`\n"
   ]
  },
  {
   "cell_type": "markdown",
   "metadata": {},
   "source": [
    "**Item 1**\n",
    "\n",
    "  a)"
   ]
  },
  {
   "cell_type": "code",
   "execution_count": 3,
   "metadata": {
    "collapsed": true
   },
   "outputs": [],
   "source": [
    "n=3\n",
    "possibilidades = [\"Sucesso\",\"Falha\"]\n",
    "probabilidade = {\"Sucesso\":0.95,\"Falha\":0.05}\n",
    "arranjo = itertools.product(possibilidades,repeat=n)\n",
    "espaco_amostral = list(arranjo)"
   ]
  },
  {
   "cell_type": "code",
   "execution_count": 4,
   "metadata": {
    "collapsed": false
   },
   "outputs": [
    {
     "data": {
      "text/plain": [
       "[('Sucesso', 'Sucesso', 'Sucesso'),\n",
       " ('Sucesso', 'Sucesso', 'Falha'),\n",
       " ('Sucesso', 'Falha', 'Sucesso'),\n",
       " ('Sucesso', 'Falha', 'Falha'),\n",
       " ('Falha', 'Sucesso', 'Sucesso'),\n",
       " ('Falha', 'Sucesso', 'Falha'),\n",
       " ('Falha', 'Falha', 'Sucesso'),\n",
       " ('Falha', 'Falha', 'Falha')]"
      ]
     },
     "execution_count": 4,
     "metadata": {},
     "output_type": "execute_result"
    }
   ],
   "source": [
    "espaco_amostral"
   ]
  },
  {
   "cell_type": "code",
   "execution_count": 5,
   "metadata": {
    "collapsed": false
   },
   "outputs": [
    {
     "data": {
      "text/plain": [
       "[0.8573749999999999,\n",
       " 0.045125,\n",
       " 0.045125,\n",
       " 0.0023750000000000004,\n",
       " 0.045125,\n",
       " 0.0023750000000000004,\n",
       " 0.0023750000000000004,\n",
       " 0.00012500000000000003]"
      ]
     },
     "execution_count": 5,
     "metadata": {},
     "output_type": "execute_result"
    }
   ],
   "source": [
    "probabilidade_linhas = []\n",
    "\n",
    "for res in espaco_amostral:\n",
    "    p = 1.0\n",
    "    for e in res:\n",
    "        p*=probabilidade[e]\n",
    "    probabilidade_linhas.append(p)\n",
    "probabilidade_linhas"
   ]
  },
  {
   "cell_type": "markdown",
   "metadata": {},
   "source": [
    "b)"
   ]
  },
  {
   "cell_type": "code",
   "execution_count": 6,
   "metadata": {
    "collapsed": true
   },
   "outputs": [],
   "source": [
    "#Y = numero de resistores que falham em pacotinhos com n resistores"
   ]
  },
  {
   "cell_type": "code",
   "execution_count": 7,
   "metadata": {
    "collapsed": false
   },
   "outputs": [
    {
     "name": "stdout",
     "output_type": "stream",
     "text": [
      "Com 0 resistores falhando 0.857375\n",
      "Com 1 resistor falhando 0.135375\n",
      "Com 2 resistores falhando 0.007125\n",
      "Com 3 resistores falhando 0.000125\n"
     ]
    }
   ],
   "source": [
    "print(\"Com 0 resistores falhando\",stats.binom.pmf(0,3,0.05))\n",
    "print(\"Com 1 resistor falhando\",stats.binom.pmf(1,3,0.05))\n",
    "print(\"Com 2 resistores falhando\",stats.binom.pmf(2,3,0.05))\n",
    "print(\"Com 3 resistores falhando\",stats.binom.pmf(3,3,0.05))"
   ]
  },
  {
   "cell_type": "markdown",
   "metadata": {},
   "source": [
    "c)"
   ]
  },
  {
   "cell_type": "code",
   "execution_count": 8,
   "metadata": {
    "collapsed": false
   },
   "outputs": [
    {
     "data": {
      "text/plain": [
       "(array(0.15000000000000002), array(0.14250000000000002))"
      ]
     },
     "execution_count": 8,
     "metadata": {},
     "output_type": "execute_result"
    }
   ],
   "source": [
    "stats.binom.stats(3, 0.05, moments='mv')"
   ]
  },
  {
   "cell_type": "markdown",
   "metadata": {},
   "source": [
    "**Item 2**\n",
    "\n",
    "**n=7**\n",
    "\n",
    "a)"
   ]
  },
  {
   "cell_type": "code",
   "execution_count": 9,
   "metadata": {
    "collapsed": false
   },
   "outputs": [
    {
     "data": {
      "text/plain": [
       "[('S', 'S', 'S', 'S', 'S', 'S', 'S'),\n",
       " ('S', 'S', 'S', 'S', 'S', 'S', 'F'),\n",
       " ('S', 'S', 'S', 'S', 'S', 'F', 'S'),\n",
       " ('S', 'S', 'S', 'S', 'S', 'F', 'F'),\n",
       " ('S', 'S', 'S', 'S', 'F', 'S', 'S'),\n",
       " ('S', 'S', 'S', 'S', 'F', 'S', 'F'),\n",
       " ('S', 'S', 'S', 'S', 'F', 'F', 'S'),\n",
       " ('S', 'S', 'S', 'S', 'F', 'F', 'F'),\n",
       " ('S', 'S', 'S', 'F', 'S', 'S', 'S'),\n",
       " ('S', 'S', 'S', 'F', 'S', 'S', 'F'),\n",
       " ('S', 'S', 'S', 'F', 'S', 'F', 'S'),\n",
       " ('S', 'S', 'S', 'F', 'S', 'F', 'F'),\n",
       " ('S', 'S', 'S', 'F', 'F', 'S', 'S'),\n",
       " ('S', 'S', 'S', 'F', 'F', 'S', 'F'),\n",
       " ('S', 'S', 'S', 'F', 'F', 'F', 'S'),\n",
       " ('S', 'S', 'S', 'F', 'F', 'F', 'F'),\n",
       " ('S', 'S', 'F', 'S', 'S', 'S', 'S'),\n",
       " ('S', 'S', 'F', 'S', 'S', 'S', 'F'),\n",
       " ('S', 'S', 'F', 'S', 'S', 'F', 'S'),\n",
       " ('S', 'S', 'F', 'S', 'S', 'F', 'F'),\n",
       " ('S', 'S', 'F', 'S', 'F', 'S', 'S'),\n",
       " ('S', 'S', 'F', 'S', 'F', 'S', 'F'),\n",
       " ('S', 'S', 'F', 'S', 'F', 'F', 'S'),\n",
       " ('S', 'S', 'F', 'S', 'F', 'F', 'F'),\n",
       " ('S', 'S', 'F', 'F', 'S', 'S', 'S'),\n",
       " ('S', 'S', 'F', 'F', 'S', 'S', 'F'),\n",
       " ('S', 'S', 'F', 'F', 'S', 'F', 'S'),\n",
       " ('S', 'S', 'F', 'F', 'S', 'F', 'F'),\n",
       " ('S', 'S', 'F', 'F', 'F', 'S', 'S'),\n",
       " ('S', 'S', 'F', 'F', 'F', 'S', 'F'),\n",
       " ('S', 'S', 'F', 'F', 'F', 'F', 'S'),\n",
       " ('S', 'S', 'F', 'F', 'F', 'F', 'F'),\n",
       " ('S', 'F', 'S', 'S', 'S', 'S', 'S'),\n",
       " ('S', 'F', 'S', 'S', 'S', 'S', 'F'),\n",
       " ('S', 'F', 'S', 'S', 'S', 'F', 'S'),\n",
       " ('S', 'F', 'S', 'S', 'S', 'F', 'F'),\n",
       " ('S', 'F', 'S', 'S', 'F', 'S', 'S'),\n",
       " ('S', 'F', 'S', 'S', 'F', 'S', 'F'),\n",
       " ('S', 'F', 'S', 'S', 'F', 'F', 'S'),\n",
       " ('S', 'F', 'S', 'S', 'F', 'F', 'F'),\n",
       " ('S', 'F', 'S', 'F', 'S', 'S', 'S'),\n",
       " ('S', 'F', 'S', 'F', 'S', 'S', 'F'),\n",
       " ('S', 'F', 'S', 'F', 'S', 'F', 'S'),\n",
       " ('S', 'F', 'S', 'F', 'S', 'F', 'F'),\n",
       " ('S', 'F', 'S', 'F', 'F', 'S', 'S'),\n",
       " ('S', 'F', 'S', 'F', 'F', 'S', 'F'),\n",
       " ('S', 'F', 'S', 'F', 'F', 'F', 'S'),\n",
       " ('S', 'F', 'S', 'F', 'F', 'F', 'F'),\n",
       " ('S', 'F', 'F', 'S', 'S', 'S', 'S'),\n",
       " ('S', 'F', 'F', 'S', 'S', 'S', 'F'),\n",
       " ('S', 'F', 'F', 'S', 'S', 'F', 'S'),\n",
       " ('S', 'F', 'F', 'S', 'S', 'F', 'F'),\n",
       " ('S', 'F', 'F', 'S', 'F', 'S', 'S'),\n",
       " ('S', 'F', 'F', 'S', 'F', 'S', 'F'),\n",
       " ('S', 'F', 'F', 'S', 'F', 'F', 'S'),\n",
       " ('S', 'F', 'F', 'S', 'F', 'F', 'F'),\n",
       " ('S', 'F', 'F', 'F', 'S', 'S', 'S'),\n",
       " ('S', 'F', 'F', 'F', 'S', 'S', 'F'),\n",
       " ('S', 'F', 'F', 'F', 'S', 'F', 'S'),\n",
       " ('S', 'F', 'F', 'F', 'S', 'F', 'F'),\n",
       " ('S', 'F', 'F', 'F', 'F', 'S', 'S'),\n",
       " ('S', 'F', 'F', 'F', 'F', 'S', 'F'),\n",
       " ('S', 'F', 'F', 'F', 'F', 'F', 'S'),\n",
       " ('S', 'F', 'F', 'F', 'F', 'F', 'F'),\n",
       " ('F', 'S', 'S', 'S', 'S', 'S', 'S'),\n",
       " ('F', 'S', 'S', 'S', 'S', 'S', 'F'),\n",
       " ('F', 'S', 'S', 'S', 'S', 'F', 'S'),\n",
       " ('F', 'S', 'S', 'S', 'S', 'F', 'F'),\n",
       " ('F', 'S', 'S', 'S', 'F', 'S', 'S'),\n",
       " ('F', 'S', 'S', 'S', 'F', 'S', 'F'),\n",
       " ('F', 'S', 'S', 'S', 'F', 'F', 'S'),\n",
       " ('F', 'S', 'S', 'S', 'F', 'F', 'F'),\n",
       " ('F', 'S', 'S', 'F', 'S', 'S', 'S'),\n",
       " ('F', 'S', 'S', 'F', 'S', 'S', 'F'),\n",
       " ('F', 'S', 'S', 'F', 'S', 'F', 'S'),\n",
       " ('F', 'S', 'S', 'F', 'S', 'F', 'F'),\n",
       " ('F', 'S', 'S', 'F', 'F', 'S', 'S'),\n",
       " ('F', 'S', 'S', 'F', 'F', 'S', 'F'),\n",
       " ('F', 'S', 'S', 'F', 'F', 'F', 'S'),\n",
       " ('F', 'S', 'S', 'F', 'F', 'F', 'F'),\n",
       " ('F', 'S', 'F', 'S', 'S', 'S', 'S'),\n",
       " ('F', 'S', 'F', 'S', 'S', 'S', 'F'),\n",
       " ('F', 'S', 'F', 'S', 'S', 'F', 'S'),\n",
       " ('F', 'S', 'F', 'S', 'S', 'F', 'F'),\n",
       " ('F', 'S', 'F', 'S', 'F', 'S', 'S'),\n",
       " ('F', 'S', 'F', 'S', 'F', 'S', 'F'),\n",
       " ('F', 'S', 'F', 'S', 'F', 'F', 'S'),\n",
       " ('F', 'S', 'F', 'S', 'F', 'F', 'F'),\n",
       " ('F', 'S', 'F', 'F', 'S', 'S', 'S'),\n",
       " ('F', 'S', 'F', 'F', 'S', 'S', 'F'),\n",
       " ('F', 'S', 'F', 'F', 'S', 'F', 'S'),\n",
       " ('F', 'S', 'F', 'F', 'S', 'F', 'F'),\n",
       " ('F', 'S', 'F', 'F', 'F', 'S', 'S'),\n",
       " ('F', 'S', 'F', 'F', 'F', 'S', 'F'),\n",
       " ('F', 'S', 'F', 'F', 'F', 'F', 'S'),\n",
       " ('F', 'S', 'F', 'F', 'F', 'F', 'F'),\n",
       " ('F', 'F', 'S', 'S', 'S', 'S', 'S'),\n",
       " ('F', 'F', 'S', 'S', 'S', 'S', 'F'),\n",
       " ('F', 'F', 'S', 'S', 'S', 'F', 'S'),\n",
       " ('F', 'F', 'S', 'S', 'S', 'F', 'F'),\n",
       " ('F', 'F', 'S', 'S', 'F', 'S', 'S'),\n",
       " ('F', 'F', 'S', 'S', 'F', 'S', 'F'),\n",
       " ('F', 'F', 'S', 'S', 'F', 'F', 'S'),\n",
       " ('F', 'F', 'S', 'S', 'F', 'F', 'F'),\n",
       " ('F', 'F', 'S', 'F', 'S', 'S', 'S'),\n",
       " ('F', 'F', 'S', 'F', 'S', 'S', 'F'),\n",
       " ('F', 'F', 'S', 'F', 'S', 'F', 'S'),\n",
       " ('F', 'F', 'S', 'F', 'S', 'F', 'F'),\n",
       " ('F', 'F', 'S', 'F', 'F', 'S', 'S'),\n",
       " ('F', 'F', 'S', 'F', 'F', 'S', 'F'),\n",
       " ('F', 'F', 'S', 'F', 'F', 'F', 'S'),\n",
       " ('F', 'F', 'S', 'F', 'F', 'F', 'F'),\n",
       " ('F', 'F', 'F', 'S', 'S', 'S', 'S'),\n",
       " ('F', 'F', 'F', 'S', 'S', 'S', 'F'),\n",
       " ('F', 'F', 'F', 'S', 'S', 'F', 'S'),\n",
       " ('F', 'F', 'F', 'S', 'S', 'F', 'F'),\n",
       " ('F', 'F', 'F', 'S', 'F', 'S', 'S'),\n",
       " ('F', 'F', 'F', 'S', 'F', 'S', 'F'),\n",
       " ('F', 'F', 'F', 'S', 'F', 'F', 'S'),\n",
       " ('F', 'F', 'F', 'S', 'F', 'F', 'F'),\n",
       " ('F', 'F', 'F', 'F', 'S', 'S', 'S'),\n",
       " ('F', 'F', 'F', 'F', 'S', 'S', 'F'),\n",
       " ('F', 'F', 'F', 'F', 'S', 'F', 'S'),\n",
       " ('F', 'F', 'F', 'F', 'S', 'F', 'F'),\n",
       " ('F', 'F', 'F', 'F', 'F', 'S', 'S'),\n",
       " ('F', 'F', 'F', 'F', 'F', 'S', 'F'),\n",
       " ('F', 'F', 'F', 'F', 'F', 'F', 'S'),\n",
       " ('F', 'F', 'F', 'F', 'F', 'F', 'F')]"
      ]
     },
     "execution_count": 9,
     "metadata": {},
     "output_type": "execute_result"
    }
   ],
   "source": [
    "n=7\n",
    "possibilidades = [\"S\",\"F\"]\n",
    "probabilidade = {\"S\":0.95,\"F\":0.05}\n",
    "arranjo = itertools.product(possibilidades,repeat=n)\n",
    "espaco_amostral = list(arranjo)\n",
    "espaco_amostral"
   ]
  },
  {
   "cell_type": "code",
   "execution_count": 10,
   "metadata": {
    "collapsed": false,
    "scrolled": true
   },
   "outputs": [
    {
     "data": {
      "text/plain": [
       "[0.6983372960937497,\n",
       " 0.03675459453124999,\n",
       " 0.03675459453124999,\n",
       " 0.0019344523437499997,\n",
       " 0.03675459453125,\n",
       " 0.0019344523437500002,\n",
       " 0.0019344523437499997,\n",
       " 0.00010181328125,\n",
       " 0.03675459453124999,\n",
       " 0.0019344523437499997,\n",
       " 0.0019344523437499997,\n",
       " 0.00010181328125,\n",
       " 0.0019344523437499997,\n",
       " 0.00010181328125,\n",
       " 0.00010181328125,\n",
       " 5.358593750000001e-06,\n",
       " 0.03675459453124999,\n",
       " 0.0019344523437499997,\n",
       " 0.0019344523437499997,\n",
       " 0.00010181328125,\n",
       " 0.0019344523437499997,\n",
       " 0.00010181328125,\n",
       " 0.00010181328125,\n",
       " 5.358593750000001e-06,\n",
       " 0.0019344523437499997,\n",
       " 0.00010181328125,\n",
       " 0.00010181328125,\n",
       " 5.358593750000001e-06,\n",
       " 0.00010181328125,\n",
       " 5.358593750000001e-06,\n",
       " 5.35859375e-06,\n",
       " 2.8203125e-07,\n",
       " 0.03675459453124999,\n",
       " 0.0019344523437499997,\n",
       " 0.0019344523437499997,\n",
       " 0.00010181328125,\n",
       " 0.0019344523437499997,\n",
       " 0.00010181328125,\n",
       " 0.00010181328125,\n",
       " 5.358593750000001e-06,\n",
       " 0.0019344523437499997,\n",
       " 0.00010181328125,\n",
       " 0.00010181328125,\n",
       " 5.358593750000001e-06,\n",
       " 0.00010181328125,\n",
       " 5.358593750000001e-06,\n",
       " 5.35859375e-06,\n",
       " 2.8203125e-07,\n",
       " 0.0019344523437500002,\n",
       " 0.00010181328125000002,\n",
       " 0.00010181328125000001,\n",
       " 5.358593750000001e-06,\n",
       " 0.00010181328125000001,\n",
       " 5.358593750000001e-06,\n",
       " 5.358593750000001e-06,\n",
       " 2.820312500000001e-07,\n",
       " 0.00010181328125000001,\n",
       " 5.358593750000001e-06,\n",
       " 5.358593750000001e-06,\n",
       " 2.820312500000001e-07,\n",
       " 5.358593750000001e-06,\n",
       " 2.820312500000001e-07,\n",
       " 2.820312500000001e-07,\n",
       " 1.4843750000000007e-08,\n",
       " 0.03675459453124999,\n",
       " 0.0019344523437499997,\n",
       " 0.0019344523437499997,\n",
       " 0.00010181328125,\n",
       " 0.0019344523437499997,\n",
       " 0.00010181328125,\n",
       " 0.00010181328125,\n",
       " 5.358593750000001e-06,\n",
       " 0.0019344523437499997,\n",
       " 0.00010181328125,\n",
       " 0.00010181328125,\n",
       " 5.358593750000001e-06,\n",
       " 0.00010181328125,\n",
       " 5.358593750000001e-06,\n",
       " 5.35859375e-06,\n",
       " 2.8203125e-07,\n",
       " 0.0019344523437500002,\n",
       " 0.00010181328125000002,\n",
       " 0.00010181328125000001,\n",
       " 5.358593750000001e-06,\n",
       " 0.00010181328125000001,\n",
       " 5.358593750000001e-06,\n",
       " 5.358593750000001e-06,\n",
       " 2.820312500000001e-07,\n",
       " 0.00010181328125000001,\n",
       " 5.358593750000001e-06,\n",
       " 5.358593750000001e-06,\n",
       " 2.820312500000001e-07,\n",
       " 5.358593750000001e-06,\n",
       " 2.820312500000001e-07,\n",
       " 2.820312500000001e-07,\n",
       " 1.4843750000000007e-08,\n",
       " 0.0019344523437500002,\n",
       " 0.00010181328125000002,\n",
       " 0.00010181328125000001,\n",
       " 5.358593750000001e-06,\n",
       " 0.00010181328125000001,\n",
       " 5.358593750000001e-06,\n",
       " 5.358593750000001e-06,\n",
       " 2.820312500000001e-07,\n",
       " 0.00010181328125000001,\n",
       " 5.358593750000001e-06,\n",
       " 5.358593750000001e-06,\n",
       " 2.820312500000001e-07,\n",
       " 5.358593750000001e-06,\n",
       " 2.820312500000001e-07,\n",
       " 2.820312500000001e-07,\n",
       " 1.4843750000000007e-08,\n",
       " 0.00010181328125000001,\n",
       " 5.358593750000001e-06,\n",
       " 5.358593750000001e-06,\n",
       " 2.820312500000001e-07,\n",
       " 5.358593750000001e-06,\n",
       " 2.820312500000001e-07,\n",
       " 2.820312500000001e-07,\n",
       " 1.4843750000000007e-08,\n",
       " 5.358593750000001e-06,\n",
       " 2.820312500000001e-07,\n",
       " 2.820312500000001e-07,\n",
       " 1.4843750000000007e-08,\n",
       " 2.820312500000001e-07,\n",
       " 1.4843750000000007e-08,\n",
       " 1.4843750000000005e-08,\n",
       " 7.812500000000004e-10]"
      ]
     },
     "execution_count": 10,
     "metadata": {},
     "output_type": "execute_result"
    }
   ],
   "source": [
    "probabilidade_linhas = []\n",
    "\n",
    "for res in espaco_amostral:\n",
    "    p = 1.0\n",
    "    for e in res:\n",
    "        p*=probabilidade[e]\n",
    "    probabilidade_linhas.append(p)\n",
    "probabilidade_linhas"
   ]
  },
  {
   "cell_type": "markdown",
   "metadata": {},
   "source": [
    "b)"
   ]
  },
  {
   "cell_type": "code",
   "execution_count": 11,
   "metadata": {
    "collapsed": false
   },
   "outputs": [
    {
     "name": "stdout",
     "output_type": "stream",
     "text": [
      "Com 0 resistores falhando 0.698337296094\n",
      "Com 1 resistor falhando 0.257282161719\n",
      "Com 2 resistores falhando 0.0406234992188\n",
      "Com 3 resistores falhando 0.00356346484375\n",
      "Com 4 resistores falhando 0.00018755078125\n",
      "Com 5 resistor falhando 5.92265625e-06\n",
      "Com 6 resistores falhando 1.0390625e-07\n",
      "Com 7 resistores falhando 7.8125e-10\n"
     ]
    }
   ],
   "source": [
    "print(\"Com 0 resistores falhando\",stats.binom.pmf(0,7,0.05))\n",
    "print(\"Com 1 resistor falhando\",stats.binom.pmf(1,7,0.05))\n",
    "print(\"Com 2 resistores falhando\",stats.binom.pmf(2,7,0.05))\n",
    "print(\"Com 3 resistores falhando\",stats.binom.pmf(3,7,0.05))\n",
    "print(\"Com 4 resistores falhando\",stats.binom.pmf(4,7,0.05))\n",
    "print(\"Com 5 resistor falhando\",stats.binom.pmf(5,7,0.05))\n",
    "print(\"Com 6 resistores falhando\",stats.binom.pmf(6,7,0.05))\n",
    "print(\"Com 7 resistores falhando\",stats.binom.pmf(7,7,0.05))"
   ]
  },
  {
   "cell_type": "markdown",
   "metadata": {},
   "source": [
    "c)"
   ]
  },
  {
   "cell_type": "code",
   "execution_count": 12,
   "metadata": {
    "collapsed": false
   },
   "outputs": [
    {
     "data": {
      "text/plain": [
       "(array(0.35000000000000003), array(0.3325))"
      ]
     },
     "execution_count": 12,
     "metadata": {},
     "output_type": "execute_result"
    }
   ],
   "source": [
    "stats.binom.stats(7, 0.05, moments='mv')"
   ]
  },
  {
   "cell_type": "markdown",
   "metadata": {},
   "source": [
    "A viabilidade de construir a distribuição de probabilidades do número de resistores com defeitos quando n não é pequeno é baixa, pois para uma quantidade de resistores grande, a chance de muitos resistores falharem é baixa e desprezíveis perto da quantidade total"
   ]
  },
  {
   "cell_type": "markdown",
   "metadata": {},
   "source": [
    "**Item 3**"
   ]
  },
  {
   "cell_type": "code",
   "execution_count": 13,
   "metadata": {
    "collapsed": false,
    "scrolled": false
   },
   "outputs": [
    {
     "name": "stdout",
     "output_type": "stream",
     "text": [
      "\n",
      "Probailidade de y resistores falharem com 3 resistores/pacote\n",
      "\n",
      "0.857375\n",
      "0.135375\n",
      "0.007125\n",
      "0.000125\n",
      "(array(0.15000000000000002), array(0.14250000000000002))\n",
      "\n",
      "Probailidade de y resistores falharem com 7 resistores/pacote\n",
      "\n",
      "0.698337296094\n",
      "0.257282161719\n",
      "0.0406234992188\n",
      "0.00356346484375\n",
      "0.00018755078125\n",
      "5.92265625e-06\n",
      "1.0390625e-07\n",
      "7.8125e-10\n",
      "(array(0.35000000000000003), array(0.3325))\n"
     ]
    }
   ],
   "source": [
    "\n",
    "\n",
    "print(\"\")\n",
    "\n",
    "print(\"Probailidade de y resistores falharem com 3 resistores/pacote\")\n",
    "print(\"\")\n",
    "print(stats.binom.pmf(0,3,0.05))\n",
    "print(stats.binom.pmf(1,3,0.05))\n",
    "print(stats.binom.pmf(2,3,0.05))\n",
    "print(stats.binom.pmf(3,3,0.05))\n",
    "print(stats.binom.stats(3, 0.05, moments='mv'))\n",
    "print(\"\")\n",
    "\n",
    "print(\"Probailidade de y resistores falharem com 7 resistores/pacote\")\n",
    "print(\"\")\n",
    "print(stats.binom.pmf(0,7,0.05))\n",
    "print(stats.binom.pmf(1,7,0.05))\n",
    "print(stats.binom.pmf(2,7,0.05))\n",
    "print(stats.binom.pmf(3,7,0.05))\n",
    "print(stats.binom.pmf(4,7,0.05))\n",
    "print(stats.binom.pmf(5,7,0.05))\n",
    "print(stats.binom.pmf(6,7,0.05))\n",
    "print(stats.binom.pmf(7,7,0.05))\n",
    "print(stats.binom.stats(7, 0.05, moments='mv'))"
   ]
  },
  {
   "cell_type": "markdown",
   "metadata": {
    "collapsed": true
   },
   "source": [
    "___\n",
    "## <font color='blue'>Exercício 2</font>\n",
    "\n",
    "Uma fábrica produz determinado veículo. O gerente de vendas fechou um negócio que implica na produção de pelo menos 110 unidades nos próximos dois meses. Para isso, será construída uma nova linha de montagem com capacidade para produzir em média 50 veículos por mês (considere meses de 30 dias). A linha funcionará ininterruptamente. Além disso, apenas um veículo é produzido por vez. Considere que um modelo Poisson seja adequado para a quantidade de veículos produzidos.\n",
    "   1. Qual a probabilidade  da produção ser igual a 100 veículos nos próximos dois meses?\n",
    "   2. Qual a probabilidade  da produção ser de pelo menos 100 veículos nos próximos dois meses?\n",
    "   3. Qual a probabilidade da produção ser entre 100 e 110 veículos nos próximos dois meses?\n",
    "   4. Se forem produzidos de pelo menos 100 veículos no próximo mês, qual a probabilidade do gerente cumprir a meta negociada?\n",
    "   5. Caso o prazo seja cumprido, o lucro será da ordem de $250$ mil, caso não seja, o lucro cai para $200$ mil. Qual é o lucro esperado e seu desvio-padrão?\n",
    "\n",
    "**Observação:** Explore os comandos de `stats.poisson`. <sup>[http://docs.scipy.org/doc/scipy/reference/generated/scipy.stats.poisson.html]\n"
   ]
  },
  {
   "cell_type": "markdown",
   "metadata": {},
   "source": []
  },
  {
   "cell_type": "code",
   "execution_count": null,
   "metadata": {
    "collapsed": true
   },
   "outputs": [],
   "source": []
  },
  {
   "cell_type": "markdown",
   "metadata": {},
   "source": [
    "___\n",
    "## <font color='blue'>Exercício 3</font> \n",
    "### <font color='red'>**Check para dia 13/09 em DUPLA **</font>\n",
    "\n",
    "Esse exercício irá explorar uma modelagem de dados reais.\n",
    "\n",
    "> **Confira alguns itens obrigatórios verificados durante a vistoria do Detran**\n",
    "\n",
    "> *Todos os veículos, novos ou velhos, precisam passar por uma vistoria todos os anos. (...) O motorista precisa estar atento a alguns itens obrigatórios. Tudo deve funcionar perfeitamente, apresentar bom estado de conservação e estar dentro do prazo de validade.*\n",
    "\n",
    "> <sup>Fonte: http://extra.globo.com/noticias/brasil/transito-seguro/confira-alguns-itens-obrigatorios-verificados-durante-vistoria-do-detran-10190355.html</sup>\n",
    "\n",
    "Essa matéria lista 14 itens que são inspecionados pelo Detran, dentre os quais têm-se: extintor de incêndio deve estar dentro do prazo de validade; pneus devem estar em bom estado de conservação; buzina deve funcionar perfeitamente; e cintos de segurança para todos os ocupantes do carro. Se, no final das contas, todos os 14 itens estiverem funcionando perfeitamente, o motorista irá feliz para casa assegurado de que seu carro está sem problemas com a vistoria.\n",
    "\n",
    "1. A base de dados `Carros.txt` apresenta, para cada um dos três mil carros de passeio vistoriados, duas informações: tipo de carro (1: Popular e 2: Não Popular) e quantidade de itens vistoriados em não conformidade (que pode variar de 0 a 14). \n",
    "    1. Considerando todos os carros, analise a quantidade de itens vistoriados em não conformidade. Pela tabela de frequências relativas, calcule a média e variância dessa quantidade. Interprete-os.\n",
    "    2. Assuma que a variável *Quantidade de itens em não conformidade* possa ser ajustada pelo modelo Binomial com parâmetros $n=14$ e $p=0,10$. Interprete esses parâmetros para o problema em questão e, ainda, discuta se as propriedades da distribuição Binomial estão satisfeitas para o problema aqui me questão.\n",
    "    \n",
    "    **Independente da sua resposta anterior, considere que a distribuição binomial seja adequada para modelar a variável de interesse nos próximos itens!**\n",
    "    3. Utilizando o método `stats.binom.pmf`, obtenha a probabilidade de cada uma das quantidades de itens em não conformidade quando $n=14$ e $p=0,10$. Calcule o valor esperado e a variância da quantidade de itens em não conformidade utilizando o método `stats.binom.stats` e via resultado da Tabela 4.4 do Magalhães e Lima (pág. 125).\n",
    "    4. Compare as probabilidades teóricas com as frequências relativas observadas nos dados. Para isso, tem-se, por exemplo, as duas opções abaixo para comparar se os resultados empíricos se encaixam com o modelo teórico proposto. \n",
    "        - A primeira opção gráfica contrasta a frequência relativa e a probabilidade teórica para uma determinada quantidade de itens em não conformidade! Vide Figura 3.4 do livro Magalhães e Lima (pág. 87). Ou seja, essa opção contrasta a frequência relativa em um valor de $y$ e a probabilidade pontual $P(Y=y)$.\n",
    "        - A segunda contrasta a frequência relativa acumulada com a probabilidade acumulada até determinada quantidade de itens em não conformidade. Ou seja, compara a frequência relativa acumulada até $y$ com a probabilidade acumulada $P(Y\\leq y)$.\n",
    "    Construa os gráficos de acordo com as duas opções e refine sua conclusão quanto ao uso do modelo teórico para ajustar a variável em questão!\n",
    "    5. Na prática, qual a necessidade de um modelo probabilístico já que se têm os dados observados?\n",
    "    6. Considerando apenas os carros populares, o modelo Binomial com parâmetros $n=14$ e $p=0,10$ é adequado para ajustar a variável Quantidade de itens em não conformidade? Se sim, justifique; caso não, sugira novos valores para os parâmetros da distribuição ajuste aos dados."
   ]
  },
  {
   "cell_type": "code",
   "execution_count": 14,
   "metadata": {
    "collapsed": false,
    "scrolled": true
   },
   "outputs": [
    {
     "name": "stdout",
     "output_type": "stream",
     "text": [
      "Esperamos trabalhar no diretório\n",
      "/Users/fredcurti/CDEng/aula10\n"
     ]
    }
   ],
   "source": [
    "import os\n",
    "print('Esperamos trabalhar no diretório')\n",
    "print(os.getcwd())\n",
    "carros = pd.read_table('Carros.txt', sep=' ')"
   ]
  },
  {
   "cell_type": "markdown",
   "metadata": {
    "collapsed": true
   },
   "source": [
    "1 - a)"
   ]
  },
  {
   "cell_type": "code",
   "execution_count": 25,
   "metadata": {
    "collapsed": false
   },
   "outputs": [],
   "source": [
    "freqrel = carros.Quantidade.value_counts(1)"
   ]
  },
  {
   "cell_type": "code",
   "execution_count": 26,
   "metadata": {
    "collapsed": false,
    "scrolled": true
   },
   "outputs": [
    {
     "data": {
      "text/plain": [
       "1    0.316667\n",
       "0    0.288000\n",
       "2    0.221333\n",
       "3    0.108333\n",
       "4    0.046333\n",
       "5    0.015667\n",
       "6    0.002667\n",
       "7    0.000667\n",
       "8    0.000333\n",
       "Name: Quantidade, dtype: float64"
      ]
     },
     "execution_count": 26,
     "metadata": {},
     "output_type": "execute_result"
    }
   ],
   "source": [
    "freqrel"
   ]
  },
  {
   "cell_type": "code",
   "execution_count": 43,
   "metadata": {
    "collapsed": false
   },
   "outputs": [
    {
     "data": {
      "text/plain": [
       "1.0000000000000002"
      ]
     },
     "execution_count": 43,
     "metadata": {},
     "output_type": "execute_result"
    }
   ],
   "source": [
    "freqrel.sum()"
   ]
  },
  {
   "cell_type": "code",
   "execution_count": 30,
   "metadata": {
    "collapsed": false,
    "scrolled": true
   },
   "outputs": [
    {
     "data": {
      "text/html": [
       "<div>\n",
       "<table border=\"1\" class=\"dataframe\">\n",
       "  <thead>\n",
       "    <tr style=\"text-align: right;\">\n",
       "      <th></th>\n",
       "      <th>Tipo</th>\n",
       "      <th>Quantidade</th>\n",
       "    </tr>\n",
       "  </thead>\n",
       "  <tbody>\n",
       "    <tr>\n",
       "      <th>1</th>\n",
       "      <td>1</td>\n",
       "      <td>0</td>\n",
       "    </tr>\n",
       "    <tr>\n",
       "      <th>2</th>\n",
       "      <td>1</td>\n",
       "      <td>2</td>\n",
       "    </tr>\n",
       "    <tr>\n",
       "      <th>3</th>\n",
       "      <td>1</td>\n",
       "      <td>2</td>\n",
       "    </tr>\n",
       "    <tr>\n",
       "      <th>4</th>\n",
       "      <td>1</td>\n",
       "      <td>3</td>\n",
       "    </tr>\n",
       "    <tr>\n",
       "      <th>5</th>\n",
       "      <td>1</td>\n",
       "      <td>1</td>\n",
       "    </tr>\n",
       "    <tr>\n",
       "      <th>6</th>\n",
       "      <td>1</td>\n",
       "      <td>4</td>\n",
       "    </tr>\n",
       "    <tr>\n",
       "      <th>7</th>\n",
       "      <td>1</td>\n",
       "      <td>4</td>\n",
       "    </tr>\n",
       "    <tr>\n",
       "      <th>8</th>\n",
       "      <td>1</td>\n",
       "      <td>4</td>\n",
       "    </tr>\n",
       "    <tr>\n",
       "      <th>9</th>\n",
       "      <td>1</td>\n",
       "      <td>2</td>\n",
       "    </tr>\n",
       "    <tr>\n",
       "      <th>10</th>\n",
       "      <td>1</td>\n",
       "      <td>1</td>\n",
       "    </tr>\n",
       "    <tr>\n",
       "      <th>11</th>\n",
       "      <td>1</td>\n",
       "      <td>2</td>\n",
       "    </tr>\n",
       "    <tr>\n",
       "      <th>12</th>\n",
       "      <td>1</td>\n",
       "      <td>2</td>\n",
       "    </tr>\n",
       "    <tr>\n",
       "      <th>13</th>\n",
       "      <td>1</td>\n",
       "      <td>4</td>\n",
       "    </tr>\n",
       "    <tr>\n",
       "      <th>14</th>\n",
       "      <td>1</td>\n",
       "      <td>0</td>\n",
       "    </tr>\n",
       "    <tr>\n",
       "      <th>15</th>\n",
       "      <td>1</td>\n",
       "      <td>3</td>\n",
       "    </tr>\n",
       "    <tr>\n",
       "      <th>16</th>\n",
       "      <td>1</td>\n",
       "      <td>1</td>\n",
       "    </tr>\n",
       "    <tr>\n",
       "      <th>17</th>\n",
       "      <td>1</td>\n",
       "      <td>2</td>\n",
       "    </tr>\n",
       "    <tr>\n",
       "      <th>18</th>\n",
       "      <td>1</td>\n",
       "      <td>1</td>\n",
       "    </tr>\n",
       "    <tr>\n",
       "      <th>19</th>\n",
       "      <td>1</td>\n",
       "      <td>0</td>\n",
       "    </tr>\n",
       "    <tr>\n",
       "      <th>20</th>\n",
       "      <td>1</td>\n",
       "      <td>0</td>\n",
       "    </tr>\n",
       "    <tr>\n",
       "      <th>21</th>\n",
       "      <td>1</td>\n",
       "      <td>3</td>\n",
       "    </tr>\n",
       "    <tr>\n",
       "      <th>22</th>\n",
       "      <td>1</td>\n",
       "      <td>2</td>\n",
       "    </tr>\n",
       "    <tr>\n",
       "      <th>23</th>\n",
       "      <td>1</td>\n",
       "      <td>2</td>\n",
       "    </tr>\n",
       "    <tr>\n",
       "      <th>24</th>\n",
       "      <td>1</td>\n",
       "      <td>3</td>\n",
       "    </tr>\n",
       "    <tr>\n",
       "      <th>25</th>\n",
       "      <td>1</td>\n",
       "      <td>2</td>\n",
       "    </tr>\n",
       "    <tr>\n",
       "      <th>26</th>\n",
       "      <td>1</td>\n",
       "      <td>2</td>\n",
       "    </tr>\n",
       "    <tr>\n",
       "      <th>27</th>\n",
       "      <td>1</td>\n",
       "      <td>2</td>\n",
       "    </tr>\n",
       "    <tr>\n",
       "      <th>28</th>\n",
       "      <td>1</td>\n",
       "      <td>2</td>\n",
       "    </tr>\n",
       "    <tr>\n",
       "      <th>29</th>\n",
       "      <td>1</td>\n",
       "      <td>1</td>\n",
       "    </tr>\n",
       "    <tr>\n",
       "      <th>30</th>\n",
       "      <td>1</td>\n",
       "      <td>2</td>\n",
       "    </tr>\n",
       "    <tr>\n",
       "      <th>...</th>\n",
       "      <td>...</td>\n",
       "      <td>...</td>\n",
       "    </tr>\n",
       "    <tr>\n",
       "      <th>2971</th>\n",
       "      <td>2</td>\n",
       "      <td>0</td>\n",
       "    </tr>\n",
       "    <tr>\n",
       "      <th>2972</th>\n",
       "      <td>2</td>\n",
       "      <td>1</td>\n",
       "    </tr>\n",
       "    <tr>\n",
       "      <th>2973</th>\n",
       "      <td>2</td>\n",
       "      <td>0</td>\n",
       "    </tr>\n",
       "    <tr>\n",
       "      <th>2974</th>\n",
       "      <td>2</td>\n",
       "      <td>1</td>\n",
       "    </tr>\n",
       "    <tr>\n",
       "      <th>2975</th>\n",
       "      <td>2</td>\n",
       "      <td>0</td>\n",
       "    </tr>\n",
       "    <tr>\n",
       "      <th>2976</th>\n",
       "      <td>2</td>\n",
       "      <td>2</td>\n",
       "    </tr>\n",
       "    <tr>\n",
       "      <th>2977</th>\n",
       "      <td>2</td>\n",
       "      <td>1</td>\n",
       "    </tr>\n",
       "    <tr>\n",
       "      <th>2978</th>\n",
       "      <td>2</td>\n",
       "      <td>1</td>\n",
       "    </tr>\n",
       "    <tr>\n",
       "      <th>2979</th>\n",
       "      <td>2</td>\n",
       "      <td>0</td>\n",
       "    </tr>\n",
       "    <tr>\n",
       "      <th>2980</th>\n",
       "      <td>2</td>\n",
       "      <td>1</td>\n",
       "    </tr>\n",
       "    <tr>\n",
       "      <th>2981</th>\n",
       "      <td>2</td>\n",
       "      <td>0</td>\n",
       "    </tr>\n",
       "    <tr>\n",
       "      <th>2982</th>\n",
       "      <td>2</td>\n",
       "      <td>2</td>\n",
       "    </tr>\n",
       "    <tr>\n",
       "      <th>2983</th>\n",
       "      <td>2</td>\n",
       "      <td>1</td>\n",
       "    </tr>\n",
       "    <tr>\n",
       "      <th>2984</th>\n",
       "      <td>2</td>\n",
       "      <td>0</td>\n",
       "    </tr>\n",
       "    <tr>\n",
       "      <th>2985</th>\n",
       "      <td>2</td>\n",
       "      <td>0</td>\n",
       "    </tr>\n",
       "    <tr>\n",
       "      <th>2986</th>\n",
       "      <td>2</td>\n",
       "      <td>1</td>\n",
       "    </tr>\n",
       "    <tr>\n",
       "      <th>2987</th>\n",
       "      <td>2</td>\n",
       "      <td>1</td>\n",
       "    </tr>\n",
       "    <tr>\n",
       "      <th>2988</th>\n",
       "      <td>2</td>\n",
       "      <td>1</td>\n",
       "    </tr>\n",
       "    <tr>\n",
       "      <th>2989</th>\n",
       "      <td>2</td>\n",
       "      <td>2</td>\n",
       "    </tr>\n",
       "    <tr>\n",
       "      <th>2990</th>\n",
       "      <td>2</td>\n",
       "      <td>2</td>\n",
       "    </tr>\n",
       "    <tr>\n",
       "      <th>2991</th>\n",
       "      <td>2</td>\n",
       "      <td>1</td>\n",
       "    </tr>\n",
       "    <tr>\n",
       "      <th>2992</th>\n",
       "      <td>2</td>\n",
       "      <td>1</td>\n",
       "    </tr>\n",
       "    <tr>\n",
       "      <th>2993</th>\n",
       "      <td>2</td>\n",
       "      <td>2</td>\n",
       "    </tr>\n",
       "    <tr>\n",
       "      <th>2994</th>\n",
       "      <td>2</td>\n",
       "      <td>0</td>\n",
       "    </tr>\n",
       "    <tr>\n",
       "      <th>2995</th>\n",
       "      <td>2</td>\n",
       "      <td>1</td>\n",
       "    </tr>\n",
       "    <tr>\n",
       "      <th>2996</th>\n",
       "      <td>2</td>\n",
       "      <td>0</td>\n",
       "    </tr>\n",
       "    <tr>\n",
       "      <th>2997</th>\n",
       "      <td>2</td>\n",
       "      <td>1</td>\n",
       "    </tr>\n",
       "    <tr>\n",
       "      <th>2998</th>\n",
       "      <td>2</td>\n",
       "      <td>1</td>\n",
       "    </tr>\n",
       "    <tr>\n",
       "      <th>2999</th>\n",
       "      <td>2</td>\n",
       "      <td>0</td>\n",
       "    </tr>\n",
       "    <tr>\n",
       "      <th>3000</th>\n",
       "      <td>2</td>\n",
       "      <td>0</td>\n",
       "    </tr>\n",
       "  </tbody>\n",
       "</table>\n",
       "<p>3000 rows × 2 columns</p>\n",
       "</div>"
      ],
      "text/plain": [
       "      Tipo  Quantidade\n",
       "1        1           0\n",
       "2        1           2\n",
       "3        1           2\n",
       "4        1           3\n",
       "5        1           1\n",
       "6        1           4\n",
       "7        1           4\n",
       "8        1           4\n",
       "9        1           2\n",
       "10       1           1\n",
       "11       1           2\n",
       "12       1           2\n",
       "13       1           4\n",
       "14       1           0\n",
       "15       1           3\n",
       "16       1           1\n",
       "17       1           2\n",
       "18       1           1\n",
       "19       1           0\n",
       "20       1           0\n",
       "21       1           3\n",
       "22       1           2\n",
       "23       1           2\n",
       "24       1           3\n",
       "25       1           2\n",
       "26       1           2\n",
       "27       1           2\n",
       "28       1           2\n",
       "29       1           1\n",
       "30       1           2\n",
       "...    ...         ...\n",
       "2971     2           0\n",
       "2972     2           1\n",
       "2973     2           0\n",
       "2974     2           1\n",
       "2975     2           0\n",
       "2976     2           2\n",
       "2977     2           1\n",
       "2978     2           1\n",
       "2979     2           0\n",
       "2980     2           1\n",
       "2981     2           0\n",
       "2982     2           2\n",
       "2983     2           1\n",
       "2984     2           0\n",
       "2985     2           0\n",
       "2986     2           1\n",
       "2987     2           1\n",
       "2988     2           1\n",
       "2989     2           2\n",
       "2990     2           2\n",
       "2991     2           1\n",
       "2992     2           1\n",
       "2993     2           2\n",
       "2994     2           0\n",
       "2995     2           1\n",
       "2996     2           0\n",
       "2997     2           1\n",
       "2998     2           1\n",
       "2999     2           0\n",
       "3000     2           0\n",
       "\n",
       "[3000 rows x 2 columns]"
      ]
     },
     "execution_count": 30,
     "metadata": {},
     "output_type": "execute_result"
    }
   ],
   "source": [
    "carros"
   ]
  },
  {
   "cell_type": "code",
   "execution_count": 39,
   "metadata": {
    "collapsed": false
   },
   "outputs": [
    {
     "data": {
      "text/plain": [
       "1.3713333333333333"
      ]
     },
     "execution_count": 39,
     "metadata": {},
     "output_type": "execute_result"
    }
   ],
   "source": [
    "carros.Quantidade.mean()"
   ]
  },
  {
   "cell_type": "code",
   "execution_count": 40,
   "metadata": {
    "collapsed": false
   },
   "outputs": [
    {
     "data": {
      "text/plain": [
       "1.5799715460709343"
      ]
     },
     "execution_count": 40,
     "metadata": {},
     "output_type": "execute_result"
    }
   ],
   "source": [
    "carros.Quantidade.var()"
   ]
  },
  {
   "cell_type": "markdown",
   "metadata": {},
   "source": [
    "b)"
   ]
  },
  {
   "cell_type": "code",
   "execution_count": 42,
   "metadata": {
    "collapsed": false,
    "scrolled": true
   },
   "outputs": [
    {
     "name": "stdout",
     "output_type": "stream",
     "text": [
      "Probabilidade para 1 itens em não conformidade 0.355861215966\n",
      "Probabilidade para 2 itens em não conformidade 0.257010878198\n",
      "Probabilidade para 3 itens em não conformidade 0.114227056977\n",
      "Probabilidade para 4 itens em não conformidade 0.034902711854\n"
     ]
    }
   ],
   "source": [
    "for i in range (1,5):\n",
    "    print(\"Probabilidade para\",i,\"itens em não conformidade\",stats.binom.pmf(i, 14, 0.1))"
   ]
  },
  {
   "cell_type": "markdown",
   "metadata": {},
   "source": [
    "Aparentemente, a frequencia relativa com os dados reais e a frequência estipulada pela fórmula probabilística são semelhantes."
   ]
  },
  {
   "cell_type": "markdown",
   "metadata": {},
   "source": [
    "c) Com as análises dos dados abaixo para um número maior de de \"sucessos\", é possível comprovar que de fato existe uma relação entre as probabilidades"
   ]
  },
  {
   "cell_type": "code",
   "execution_count": 60,
   "metadata": {
    "collapsed": false
   },
   "outputs": [
    {
     "name": "stdout",
     "output_type": "stream",
     "text": [
      "Probabilidade para 1 itens em não conformidade 0.355861215966\n",
      "Probabilidade para 2 itens em não conformidade 0.257010878198\n",
      "Probabilidade para 3 itens em não conformidade 0.114227056977\n",
      "Probabilidade para 4 itens em não conformidade 0.034902711854\n",
      "Probabilidade para 5 itens em não conformidade 0.00775615818978\n",
      "Probabilidade para 6 itens em não conformidade 0.00129269303163\n",
      "Probabilidade para 7 itens em não conformidade 0.00016415149608\n",
      "Probabilidade para 8 itens em não conformidade 1.595917323e-05\n",
      "Probabilidade para 9 itens em não conformidade 1.18216098e-06\n",
      "Probabilidade para 10 itens em não conformidade 6.567561e-08\n",
      "Probabilidade para 11 itens em não conformidade 2.65356e-09\n",
      "Probabilidade para 12 itens em não conformidade 7.371e-11\n",
      "Probabilidade para 13 itens em não conformidade 1.26e-12\n",
      "Probabilidade para 14 itens em não conformidade 1e-14\n"
     ]
    }
   ],
   "source": [
    "freqlist5 = [] \n",
    "for i in range (1,15):\n",
    "    print(\"Probabilidade para\",i,\"itens em não conformidade\",stats.binom.pmf(i, 14, 0.1))\n",
    "    freqlist5.append(stats.binom.pmf(i, 14, 0.1))"
   ]
  },
  {
   "cell_type": "code",
   "execution_count": 49,
   "metadata": {
    "collapsed": false
   },
   "outputs": [
    {
     "data": {
      "text/plain": [
       "array(1.2600000000000002)"
      ]
     },
     "execution_count": 49,
     "metadata": {},
     "output_type": "execute_result"
    }
   ],
   "source": [
    "stats.binom.stats(14, 0.1, moments='mv')[1]"
   ]
  },
  {
   "cell_type": "markdown",
   "metadata": {},
   "source": [
    "d) - Opção gráfica"
   ]
  },
  {
   "cell_type": "code",
   "execution_count": 59,
   "metadata": {
    "collapsed": false
   },
   "outputs": [
    {
     "data": {
      "text/plain": [
       "<matplotlib.axes._subplots.AxesSubplot at 0x11d6260f0>"
      ]
     },
     "execution_count": 59,
     "metadata": {},
     "output_type": "execute_result"
    },
    {
     "data": {
      "image/png": "[encoded data removed]",
      "text/plain": [
       "<matplotlib.figure.Figure at 0x11d6000b8>"
      ]
     },
     "metadata": {},
     "output_type": "display_data"
    }
   ],
   "source": [
    "freqrel.plot.bar(grid=True)"
   ]
  },
  {
   "cell_type": "code",
   "execution_count": 76,
   "metadata": {
    "collapsed": false
   },
   "outputs": [
    {
     "data": {
      "image/png": "[encoded data removed]",
      "text/plain": [
       "<matplotlib.figure.Figure at 0x11cd61898>"
      ]
     },
     "metadata": {},
     "output_type": "display_data"
    }
   ],
   "source": [
    "plt.plot(range(1,15),freqlist5,\"ro\")\n",
    "plt.show()"
   ]
  },
  {
   "cell_type": "markdown",
   "metadata": {},
   "source": []
  },
  {
   "cell_type": "markdown",
   "metadata": {},
   "source": [
    "**e)**"
   ]
  },
  {
   "cell_type": "markdown",
   "metadata": {},
   "source": [
    "O modelo probabilistico permite prevêr a chance de um fenômeno ocorrer. Deste modo empresas que lidam com o acaso, como seguradoras, bancos e etc podem alocar recursos de maneira a suprir as necessidades desses fenômenos de maneira adequada, maximizando lucros."
   ]
  },
  {
   "cell_type": "markdown",
   "metadata": {},
   "source": []
  },
  {
   "cell_type": "markdown",
   "metadata": {},
   "source": [
    "**f)**\n"
   ]
  },
  {
   "cell_type": "markdown",
   "metadata": {},
   "source": [
    "Não, pois com a variação no espaço amostral, não existe uma homogeniedade na variável da probabilidade."
   ]
  },
  {
   "cell_type": "markdown",
   "metadata": {},
   "source": [
    "Considerando apenas os carros populares, o modelo Binomial com parâmetros n=14 e p=0,10\n",
    "\n",
    "  é adequado para ajustar a variável Quantidade de itens em não conformidade? Se sim, justifique; caso não, sugira novos valores para os parâmetros da distribuição ajuste aos dados."
   ]
  },
  {
   "cell_type": "code",
   "execution_count": null,
   "metadata": {
    "collapsed": true
   },
   "outputs": [],
   "source": []
  },
  {
   "cell_type": "code",
   "execution_count": null,
   "metadata": {
    "collapsed": true
   },
   "outputs": [],
   "source": []
  }
 ],
 "metadata": {
  "anaconda-cloud": {},
  "kernelspec": {
   "display_name": "Python 3",
   "language": "python",
   "name": "python3"
  },
  "language_info": {
   "codemirror_mode": {
    "name": "ipython",
    "version": 3
   },
   "file_extension": ".py",
   "mimetype": "text/x-python",
   "name": "python",
   "nbconvert_exporter": "python",
   "pygments_lexer": "ipython3",
   "version": "3.5.1"
  }
 },
 "nbformat": 4,
 "nbformat_minor": 0
}
