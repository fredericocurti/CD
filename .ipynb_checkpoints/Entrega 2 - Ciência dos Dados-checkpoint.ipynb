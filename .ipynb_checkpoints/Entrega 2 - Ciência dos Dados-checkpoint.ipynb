{
 "cells": [
  {
   "cell_type": "code",
   "execution_count": 2,
   "metadata": {
    "collapsed": true
   },
   "outputs": [],
   "source": [
    "import pandas as pd\n",
    "import matplotlib.pyplot as plt"
   ]
  },
  {
   "cell_type": "code",
   "execution_count": 3,
   "metadata": {
    "collapsed": false
   },
   "outputs": [],
   "source": [
    "demo = pd.read_json(\"exportdemo.json\")"
   ]
  },
  {
   "cell_type": "code",
   "execution_count": 4,
   "metadata": {
    "collapsed": false
   },
   "outputs": [
    {
     "data": {
      "text/html": [
       "<div>\n",
       "<table border=\"1\" class=\"dataframe\">\n",
       "  <thead>\n",
       "    <tr style=\"text-align: right;\">\n",
       "      <th></th>\n",
       "      <th>logs</th>\n",
       "    </tr>\n",
       "  </thead>\n",
       "  <tbody>\n",
       "    <tr>\n",
       "      <th>-KVjQHvVNManLVMM2Zjk</th>\n",
       "      <td>{'tempo': 1478264436246, 'user_id': 1257728698...</td>\n",
       "    </tr>\n",
       "    <tr>\n",
       "      <th>-KVjQO8rhz8askDZHjr9</th>\n",
       "      <td>{'tempo': 1478264461745, 'user_id': 1257728698...</td>\n",
       "    </tr>\n",
       "    <tr>\n",
       "      <th>-KVjQZtUP_pOVFosDx2v</th>\n",
       "      <td>{'tempo': 1478264508158, 'user_id': 326273317,...</td>\n",
       "    </tr>\n",
       "    <tr>\n",
       "      <th>-KVjQ_GA4en-kPJmCv8R</th>\n",
       "      <td>{'tempo': 1478264509680, 'user_id': 326273317,...</td>\n",
       "    </tr>\n",
       "    <tr>\n",
       "      <th>-KVjQ_T8-C7V5b-g5yJ3</th>\n",
       "      <td>{'tempo': 1478264510510, 'user_id': 326273317,...</td>\n",
       "    </tr>\n",
       "    <tr>\n",
       "      <th>-KVjQ_ThUGiV-5en56_8</th>\n",
       "      <td>{'tempo': 1478264510545, 'user_id': 326273317,...</td>\n",
       "    </tr>\n",
       "    <tr>\n",
       "      <th>-KVjQ_Yl7XFfS9KQwJzT</th>\n",
       "      <td>{'tempo': 1478264510870, 'user_id': 326273317,...</td>\n",
       "    </tr>\n",
       "    <tr>\n",
       "      <th>-KVjQ_mR9GMUPCrzMnLz</th>\n",
       "      <td>{'tempo': 1478264511809, 'user_id': 326273317,...</td>\n",
       "    </tr>\n",
       "    <tr>\n",
       "      <th>-KVjQ_mfBRVgGVr0VUwG</th>\n",
       "      <td>{'tempo': 1478264511824, 'user_id': 326273317,...</td>\n",
       "    </tr>\n",
       "    <tr>\n",
       "      <th>-KVjQ_sE7pc8OU-LuRyc</th>\n",
       "      <td>{'tempo': 1478264512180, 'user_id': 326273317,...</td>\n",
       "    </tr>\n",
       "    <tr>\n",
       "      <th>-KVjQ_sOhYrFmmOcez8m</th>\n",
       "      <td>{'tempo': 1478264512190, 'user_id': 326273317,...</td>\n",
       "    </tr>\n",
       "    <tr>\n",
       "      <th>-KVjQn4G9j896AREawaO</th>\n",
       "      <td>{'tempo': 1478264566095, 'user_id': 4061656492...</td>\n",
       "    </tr>\n",
       "    <tr>\n",
       "      <th>-KVjQnOePMW7YfcTdftf</th>\n",
       "      <td>{'tempo': 1478264569269, 'user_id': 4061656492...</td>\n",
       "    </tr>\n",
       "    <tr>\n",
       "      <th>-KVkRrOrSr28uNBjHqRi</th>\n",
       "      <td>{'tempo': 1478281625061, 'user_id': 3303704572...</td>\n",
       "    </tr>\n",
       "    <tr>\n",
       "      <th>-KVkRrkLgphYU1P2f9Gm</th>\n",
       "      <td>{'tempo': 1478281626501, 'user_id': 3303704572...</td>\n",
       "    </tr>\n",
       "    <tr>\n",
       "      <th>-KVpksVScxhryQE_lq_j</th>\n",
       "      <td>{'tempo': 1478370757253, 'user_id': 3858877836...</td>\n",
       "    </tr>\n",
       "    <tr>\n",
       "      <th>-KVpkuBOKAH8Nt32VZxf</th>\n",
       "      <td>{'tempo': 1478370764162, 'user_id': 3858877836...</td>\n",
       "    </tr>\n",
       "    <tr>\n",
       "      <th>-KVpmMkpFAksSeVsZp4j</th>\n",
       "      <td>{'tempo': 1478371147396, 'user_id': 723471909,...</td>\n",
       "    </tr>\n",
       "    <tr>\n",
       "      <th>-KVpnBU0XMOmJOHCmeVS</th>\n",
       "      <td>{'tempo': 1478371362752, 'user_id': 723471909,...</td>\n",
       "    </tr>\n",
       "    <tr>\n",
       "      <th>-KVpnZhhe40XLLIM0g30</th>\n",
       "      <td>{'tempo': 1478371461996, 'user_id': 723471909,...</td>\n",
       "    </tr>\n",
       "    <tr>\n",
       "      <th>-KVpnZo3TbqZcRW0F0i2</th>\n",
       "      <td>{'tempo': 1478371462404, 'user_id': 723471909,...</td>\n",
       "    </tr>\n",
       "    <tr>\n",
       "      <th>-KVpn_m4LrB8hqd90Xz2</th>\n",
       "      <td>{'tempo': 1478371466462, 'user_id': 723471909,...</td>\n",
       "    </tr>\n",
       "  </tbody>\n",
       "</table>\n",
       "</div>"
      ],
      "text/plain": [
       "                                                                   logs\n",
       "-KVjQHvVNManLVMM2Zjk  {'tempo': 1478264436246, 'user_id': 1257728698...\n",
       "-KVjQO8rhz8askDZHjr9  {'tempo': 1478264461745, 'user_id': 1257728698...\n",
       "-KVjQZtUP_pOVFosDx2v  {'tempo': 1478264508158, 'user_id': 326273317,...\n",
       "-KVjQ_GA4en-kPJmCv8R  {'tempo': 1478264509680, 'user_id': 326273317,...\n",
       "-KVjQ_T8-C7V5b-g5yJ3  {'tempo': 1478264510510, 'user_id': 326273317,...\n",
       "-KVjQ_ThUGiV-5en56_8  {'tempo': 1478264510545, 'user_id': 326273317,...\n",
       "-KVjQ_Yl7XFfS9KQwJzT  {'tempo': 1478264510870, 'user_id': 326273317,...\n",
       "-KVjQ_mR9GMUPCrzMnLz  {'tempo': 1478264511809, 'user_id': 326273317,...\n",
       "-KVjQ_mfBRVgGVr0VUwG  {'tempo': 1478264511824, 'user_id': 326273317,...\n",
       "-KVjQ_sE7pc8OU-LuRyc  {'tempo': 1478264512180, 'user_id': 326273317,...\n",
       "-KVjQ_sOhYrFmmOcez8m  {'tempo': 1478264512190, 'user_id': 326273317,...\n",
       "-KVjQn4G9j896AREawaO  {'tempo': 1478264566095, 'user_id': 4061656492...\n",
       "-KVjQnOePMW7YfcTdftf  {'tempo': 1478264569269, 'user_id': 4061656492...\n",
       "-KVkRrOrSr28uNBjHqRi  {'tempo': 1478281625061, 'user_id': 3303704572...\n",
       "-KVkRrkLgphYU1P2f9Gm  {'tempo': 1478281626501, 'user_id': 3303704572...\n",
       "-KVpksVScxhryQE_lq_j  {'tempo': 1478370757253, 'user_id': 3858877836...\n",
       "-KVpkuBOKAH8Nt32VZxf  {'tempo': 1478370764162, 'user_id': 3858877836...\n",
       "-KVpmMkpFAksSeVsZp4j  {'tempo': 1478371147396, 'user_id': 723471909,...\n",
       "-KVpnBU0XMOmJOHCmeVS  {'tempo': 1478371362752, 'user_id': 723471909,...\n",
       "-KVpnZhhe40XLLIM0g30  {'tempo': 1478371461996, 'user_id': 723471909,...\n",
       "-KVpnZo3TbqZcRW0F0i2  {'tempo': 1478371462404, 'user_id': 723471909,...\n",
       "-KVpn_m4LrB8hqd90Xz2  {'tempo': 1478371466462, 'user_id': 723471909,..."
      ]
     },
     "execution_count": 4,
     "metadata": {},
     "output_type": "execute_result"
    }
   ],
   "source": [
    "demo"
   ]
  },
  {
   "cell_type": "code",
   "execution_count": null,
   "metadata": {
    "collapsed": true
   },
   "outputs": [],
   "source": []
  }
 ],
 "metadata": {
  "kernelspec": {
   "display_name": "Python 3",
   "language": "python",
   "name": "python3"
  },
  "language_info": {
   "codemirror_mode": {
    "name": "ipython",
    "version": 3
   },
   "file_extension": ".py",
   "mimetype": "text/x-python",
   "name": "python",
   "nbconvert_exporter": "python",
   "pygments_lexer": "ipython3",
   "version": "3.5.1"
  }
 },
 "nbformat": 4,
 "nbformat_minor": 0
}
